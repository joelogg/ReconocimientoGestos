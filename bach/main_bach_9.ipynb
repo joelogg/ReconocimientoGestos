{
 "cells": [
  {
   "cell_type": "code",
   "execution_count": 1,
   "metadata": {},
   "outputs": [
    {
     "name": "stdout",
     "output_type": "stream",
     "text": [
      "This is printed first ja\n",
      "1\n",
      "This is printed second ja\n",
      "2\n",
      "This is printed at last ja\n",
      "3\n"
     ]
    }
   ],
   "source": [
    "# A simple generator function\n",
    "def my_gen(val):\n",
    "    n = 1\n",
    "    print('This is printed first', val)\n",
    "    # Generator function contains yield statements\n",
    "    yield n\n",
    "\n",
    "    n += 1\n",
    "    print('This is printed second', val)\n",
    "    yield n\n",
    "\n",
    "    n += 1\n",
    "    print('This is printed at last', val)\n",
    "    yield n\n",
    "\n",
    "gen_a = my_gen(\"ja\")\n",
    "# Using for loop\n",
    "for item in gen_a:\n",
    "    print(item)    \n",
    "\n",
    "#print(next(gen_b))"
   ]
  },
  {
   "cell_type": "markdown",
   "metadata": {},
   "source": [
    "# Leer Nombres"
   ]
  },
  {
   "cell_type": "code",
   "execution_count": 1,
   "metadata": {},
   "outputs": [],
   "source": [
    "import re\n",
    "\n",
    "#Leer los nombres de la data (RGB, profundida, tipo)\n",
    "def leerNombresTrain(path, cantMaxima):\n",
    "    f = open(path, 'r+')\n",
    "    \n",
    "    pathNombresRGB = []\n",
    "    pathNombresDepth = []\n",
    "    clases = []\n",
    "    cant = 0\n",
    "    for line in f.readlines():\n",
    "        \n",
    "        line = line.split(\" \")\n",
    "        pathNombresRGB.append(\"SilentsData/NoSilent_\"+line[0])\n",
    "        pathNombresDepth.append(\"SilentsData/NoSilent_\"+line[1])\n",
    "        clases.append( int( re.sub(\"\\D\", \"\", line[2]) ) -1 )\n",
    "        \n",
    "        cant = cant + 1\n",
    "        if cant>=cantMaxima:\n",
    "            break\n",
    "        \n",
    "    f.close()\n",
    "    \n",
    "    return pathNombresRGB, pathNombresDepth, clases"
   ]
  },
  {
   "cell_type": "code",
   "execution_count": 2,
   "metadata": {},
   "outputs": [
    {
     "name": "stdout",
     "output_type": "stream",
     "text": [
      "15\n",
      "15\n",
      "15\n",
      "['SilentsData/NoSilent_valid/001/M_00001.avi', 'SilentsData/NoSilent_valid/001/M_00002.avi', 'SilentsData/NoSilent_valid/001/M_00003.avi', 'SilentsData/NoSilent_valid/001/M_00004.avi', 'SilentsData/NoSilent_valid/001/M_00005.avi', 'SilentsData/NoSilent_valid/001/M_00006.avi', 'SilentsData/NoSilent_valid/001/M_00007.avi', 'SilentsData/NoSilent_valid/001/M_00008.avi', 'SilentsData/NoSilent_valid/001/M_00009.avi', 'SilentsData/NoSilent_valid/001/M_00010.avi', 'SilentsData/NoSilent_valid/001/M_00011.avi', 'SilentsData/NoSilent_valid/001/M_00012.avi', 'SilentsData/NoSilent_valid/001/M_00013.avi', 'SilentsData/NoSilent_valid/001/M_00014.avi', 'SilentsData/NoSilent_valid/001/M_00015.avi']\n",
      "['SilentsData/NoSilent_valid/001/K_00001.avi', 'SilentsData/NoSilent_valid/001/K_00002.avi', 'SilentsData/NoSilent_valid/001/K_00003.avi', 'SilentsData/NoSilent_valid/001/K_00004.avi', 'SilentsData/NoSilent_valid/001/K_00005.avi', 'SilentsData/NoSilent_valid/001/K_00006.avi', 'SilentsData/NoSilent_valid/001/K_00007.avi', 'SilentsData/NoSilent_valid/001/K_00008.avi', 'SilentsData/NoSilent_valid/001/K_00009.avi', 'SilentsData/NoSilent_valid/001/K_00010.avi', 'SilentsData/NoSilent_valid/001/K_00011.avi', 'SilentsData/NoSilent_valid/001/K_00012.avi', 'SilentsData/NoSilent_valid/001/K_00013.avi', 'SilentsData/NoSilent_valid/001/K_00014.avi', 'SilentsData/NoSilent_valid/001/K_00015.avi']\n",
      "[108, 240, 31, 7, 35, 97, 216, 3, 162, 153, 189, 151, 168, 244, 58]\n"
     ]
    }
   ],
   "source": [
    "cantData = 15\n",
    "pathNombresRGB, pathNombresDepth, clases = leerNombresTrain('../valid_list.txt', cantData)\n",
    "print(len(pathNombresRGB))\n",
    "print(len(pathNombresDepth))\n",
    "print(len(clases))\n",
    "print(pathNombresRGB)\n",
    "print(pathNombresDepth)\n",
    "print(clases)"
   ]
  },
  {
   "cell_type": "markdown",
   "metadata": {},
   "source": [
    "# Leer Video"
   ]
  },
  {
   "cell_type": "code",
   "execution_count": 3,
   "metadata": {},
   "outputs": [],
   "source": [
    "import cv2\n",
    "import numpy as np\n",
    "import glob\n",
    "\n",
    "#Se lee los videos rgb\n",
    "def leer_una_seña_video(nombreVid):\n",
    "    \n",
    "    cap = cv2.VideoCapture('../'+nombreVid)\n",
    "    vid = []\n",
    "    while True:\n",
    "        ret, img = cap.read()\n",
    "        if not ret:\n",
    "            break\n",
    "        #vid.append(  cv2.resize(img, (160, 120), interpolation = cv2.INTER_CUBIC)   )    \n",
    "        vid.append(  cv2.resize(img, (112, 112))   )    \n",
    "        #vid.append(img)    \n",
    "    return vid"
   ]
  },
  {
   "cell_type": "markdown",
   "metadata": {},
   "source": [
    "# Dar formato a la data para entrenar"
   ]
  },
  {
   "cell_type": "code",
   "execution_count": 4,
   "metadata": {},
   "outputs": [],
   "source": [
    "def recortarVideo(vid, tam):\n",
    "    razon = len(vid)/tam\n",
    "    vidR = []\n",
    "    if (len(vid)<=0):\n",
    "        return vidR\n",
    "    for i in range(tam):\n",
    "        vidR.append( vid[(int)(i*razon)] )\n",
    "    del vid\n",
    "    return vidR"
   ]
  },
  {
   "cell_type": "code",
   "execution_count": 5,
   "metadata": {},
   "outputs": [],
   "source": [
    "def formatearVideo(vid):\n",
    "    vid = np.array(vid)\n",
    "    return vid"
   ]
  },
  {
   "cell_type": "code",
   "execution_count": 6,
   "metadata": {},
   "outputs": [],
   "source": [
    "def juntarRGBandDepth(rgb, depth):\n",
    "    return np.array( np.concatenate((rgb, depth)) )"
   ]
  },
  {
   "cell_type": "code",
   "execution_count": 7,
   "metadata": {},
   "outputs": [],
   "source": [
    "def espejoVideo(vid):\n",
    "    vidNew = []\n",
    "    for img in vid:\n",
    "        vidNew.append( cv2.flip( img, 1 ) )\n",
    "    del vid\n",
    "    return vidNew"
   ]
  },
  {
   "cell_type": "code",
   "execution_count": 8,
   "metadata": {},
   "outputs": [],
   "source": [
    "def combinar(vid):\n",
    "    vidRes = []\n",
    "    vidRes.append(vid[0])\n",
    "    vidRes.append(vid[3])\n",
    "    vidRes.append(vid[1])\n",
    "    vidRes.append(vid[4])\n",
    "    vidRes.append(vid[2])\n",
    "    vidRes.append(vid[5])\n",
    "    return np.array(vidRes)"
   ]
  },
  {
   "cell_type": "code",
   "execution_count": 9,
   "metadata": {},
   "outputs": [],
   "source": [
    "from skimage import exposure\n",
    "\n",
    "def normalization_min_max(vid):\n",
    "    vidNew = []\n",
    "    \n",
    "    for img in vid:\n",
    "        img_norm = (img - np.min(img))/ (np.max(img) - np.min(img))\n",
    "        #img_norm = exposure.equalize_adapthist(img, clip_limit=0.03)\n",
    "        img_norm = exposure.equalize_hist(img_norm)\n",
    "\n",
    "        \n",
    "        vidNew.append( img_norm )\n",
    "    del vid\n",
    "    return vidNew"
   ]
  },
  {
   "cell_type": "code",
   "execution_count": 10,
   "metadata": {},
   "outputs": [],
   "source": [
    "import numpy as np\n",
    "import cv2\n",
    "\n",
    "def substraerFondo(vid):\n",
    "    vidNew = []\n",
    "    first_frame = vid[0]\n",
    "    first_gray = cv2.cvtColor(first_frame, cv2.COLOR_BGR2GRAY)\n",
    "    first_gray = cv2.GaussianBlur(first_gray, (5, 5), 0)\n",
    "    for frame in vid:\n",
    "\n",
    "        frameAux = cv2.cvtColor(frame, cv2.COLOR_BGR2GRAY)\n",
    "        frameAux = cv2.GaussianBlur(frameAux, (5, 5), 0)\n",
    "        frameAux = cv2.absdiff(first_gray, frameAux)\n",
    "\n",
    "        _, frameAux = cv2.threshold(frameAux, 20, 255, cv2.THRESH_BINARY)\n",
    "        \n",
    "        frame[ frameAux==0 ] = 0\n",
    "        vidNew.append(frame)\n",
    "    \n",
    "    del vid\n",
    "    return np.array(vidNew)"
   ]
  },
  {
   "cell_type": "code",
   "execution_count": 11,
   "metadata": {},
   "outputs": [
    {
     "name": "stdout",
     "output_type": "stream",
     "text": [
      "(16, 112, 112, 3)\n",
      "(16, 112, 112, 3)\n"
     ]
    }
   ],
   "source": [
    "vidRGB = leer_una_seña_video(pathNombresRGB[11])        \n",
    "vidRGB = recortarVideo(vidRGB, 16)    \n",
    "vidRGB = np.array(vidRGB)\n",
    "print(vidRGB.shape)\n",
    "\n",
    "vidF = substraerFondo(vidRGB)\n",
    "vidF.shape\n",
    "print(vidF.shape)"
   ]
  },
  {
   "cell_type": "code",
   "execution_count": 12,
   "metadata": {},
   "outputs": [
    {
     "data": {
      "image/png": "[encoded data removed]",
      "text/plain": [
       "<matplotlib.figure.Figure at 0x7f409d586780>"
      ]
     },
     "metadata": {
      "needs_background": "light"
     },
     "output_type": "display_data"
    },
    {
     "data": {
      "image/png": "[encoded data removed]",
      "text/plain": [
       "<matplotlib.figure.Figure at 0x7f4090073dd8>"
      ]
     },
     "metadata": {
      "needs_background": "light"
     },
     "output_type": "display_data"
    },
    {
     "data": {
      "image/png": "[encoded data removed]",
      "text/plain": [
       "<matplotlib.figure.Figure at 0x7f4079fea710>"
      ]
     },
     "metadata": {
      "needs_background": "light"
     },
     "output_type": "display_data"
    },
    {
     "data": {
      "image/png": "[encoded data removed]",
      "text/plain": [
       "<matplotlib.figure.Figure at 0x7f409007c9b0>"
      ]
     },
     "metadata": {
      "needs_background": "light"
     },
     "output_type": "display_data"
    },
    {
     "data": {
      "image/png": "[encoded data removed]",
      "text/plain": [
       "<matplotlib.figure.Figure at 0x7f4079f92f98>"
      ]
     },
     "metadata": {
      "needs_background": "light"
     },
     "output_type": "display_data"
    },
    {
     "data": {
      "image/png": "[encoded data removed]",
      "text/plain": [
       "<matplotlib.figure.Figure at 0x7f4079e82198>"
      ]
     },
     "metadata": {
      "needs_background": "light"
     },
     "output_type": "display_data"
    },
    {
     "data": {
      "image/png": "[encoded data removed]",
      "text/plain": [
       "<matplotlib.figure.Figure at 0x7f4079e32b38>"
      ]
     },
     "metadata": {
      "needs_background": "light"
     },
     "output_type": "display_data"
    },
    {
     "data": {
      "image/png": "[encoded data removed]",
      "text/plain": [
       "<matplotlib.figure.Figure at 0x7f4079f35b00>"
      ]
     },
     "metadata": {
      "needs_background": "light"
     },
     "output_type": "display_data"
    },
    {
     "data": {
      "image/png": "[encoded data removed]",
      "text/plain": [
       "<matplotlib.figure.Figure at 0x7f4079f35358>"
      ]
     },
     "metadata": {
      "needs_background": "light"
     },
     "output_type": "display_data"
    },
    {
     "data": {
      "image/png": "[encoded data removed]",
      "text/plain": [
       "<matplotlib.figure.Figure at 0x7f4079f4b160>"
      ]
     },
     "metadata": {
      "needs_background": "light"
     },
     "output_type": "display_data"
    },
    {
     "data": {
      "image/png": "[encoded data removed]",
      "text/plain": [
       "<matplotlib.figure.Figure at 0x7f4079db53c8>"
      ]
     },
     "metadata": {
      "needs_background": "light"
     },
     "output_type": "display_data"
    },
    {
     "data": {
      "image/png": "[encoded data removed]",
      "text/plain": [
       "<matplotlib.figure.Figure at 0x7f4079cd9e48>"
      ]
     },
     "metadata": {
      "needs_background": "light"
     },
     "output_type": "display_data"
    },
    {
     "data": {
      "image/png": "[encoded data removed]",
      "text/plain": [
       "<matplotlib.figure.Figure at 0x7f4079d44048>"
      ]
     },
     "metadata": {
      "needs_background": "light"
     },
     "output_type": "display_data"
    },
    {
     "data": {
      "image/png": "[encoded data removed]",
      "text/plain": [
       "<matplotlib.figure.Figure at 0x7f4079bf7cf8>"
      ]
     },
     "metadata": {
      "needs_background": "light"
     },
     "output_type": "display_data"
    },
    {
     "data": {
      "image/png": "[encoded data removed]",
      "text/plain": [
       "<matplotlib.figure.Figure at 0x7f4079c24668>"
      ]
     },
     "metadata": {
      "needs_background": "light"
     },
     "output_type": "display_data"
    },
    {
     "data": {
      "image/png": "[encoded data removed]",
      "text/plain": [
       "<matplotlib.figure.Figure at 0x7f4079ba8320>"
      ]
     },
     "metadata": {
      "needs_background": "light"
     },
     "output_type": "display_data"
    }
   ],
   "source": [
    "import matplotlib.pyplot as plt\n",
    "%matplotlib inline\n",
    "\n",
    "fig = plt.figure()\n",
    "\n",
    "\n",
    "for i in range(16):\n",
    "    plt.subplot(1, 2, 1)\n",
    "    b,g,r = cv2.split(vidRGB[i])       # get b,g,r\n",
    "    rgb_img = cv2.merge([r,g,b])     # switch it to rgb\n",
    "    plt.imshow(rgb_img)\n",
    "    \n",
    "    plt.subplot(1, 2, 2)\n",
    "    b,g,r = cv2.split(vidF[i])       # get b,g,r\n",
    "    rgb_img = cv2.merge([r,g,b])     # switch it to rgb\n",
    "    plt.imshow(rgb_img)\n",
    "    plt.show()\n",
    "            "
   ]
  },
  {
   "cell_type": "code",
   "execution_count": null,
   "metadata": {},
   "outputs": [],
   "source": []
  },
  {
   "cell_type": "code",
   "execution_count": null,
   "metadata": {},
   "outputs": [],
   "source": []
  },
  {
   "cell_type": "code",
   "execution_count": null,
   "metadata": {},
   "outputs": [],
   "source": []
  },
  {
   "cell_type": "code",
   "execution_count": 13,
   "metadata": {},
   "outputs": [],
   "source": [
    "cantFrames = 16\n",
    "bach_size = 8"
   ]
  },
  {
   "cell_type": "code",
   "execution_count": 14,
   "metadata": {},
   "outputs": [
    {
     "data": {
      "text/plain": [
       "150"
      ]
     },
     "execution_count": 14,
     "metadata": {},
     "output_type": "execute_result"
    }
   ],
   "source": [
    "cantData = 150\n",
    "pathNombresRGB, pathNombresDepth, clases = leerNombresTrain('../train_list.txt', cantData)\n",
    "len(pathNombresRGB)"
   ]
  },
  {
   "cell_type": "code",
   "execution_count": 15,
   "metadata": {},
   "outputs": [
    {
     "name": "stderr",
     "output_type": "stream",
     "text": [
      "Using TensorFlow backend.\n"
     ]
    },
    {
     "data": {
      "text/plain": [
       "(150, 239)"
      ]
     },
     "execution_count": 15,
     "metadata": {},
     "output_type": "execute_result"
    }
   ],
   "source": [
    "from keras import utils\n",
    "dataY_Entrada = utils.to_categorical(clases)\n",
    "dataY_Entrada.shape"
   ]
  },
  {
   "cell_type": "code",
   "execution_count": 16,
   "metadata": {},
   "outputs": [],
   "source": [
    "def my_generator(pathNombresRGB, pathNombresDepth, cantFrames, cantData, dataY_Entrada, bach_size):\n",
    "    i = 0\n",
    "    boolEspejo = False\n",
    "    while True:\n",
    "        \n",
    "        \n",
    "        \n",
    "        dataX = []\n",
    "        dataY = []\n",
    "        \n",
    "        for _ in range(bach_size):\n",
    "            \n",
    "            #if(i >= cantData*2):\n",
    "            if(i >= cantData):\n",
    "                i=0\n",
    "            '''\n",
    "            if (boolEspejo):\n",
    "                vidRGB = leer_una_seña_video(pathNombresRGB[(int)(i/2)])        \n",
    "                vidRGB = recortarVideo(vidRGB, cantFrames)\n",
    "                vidRGB = espejoVideo(vidRGB)\n",
    "                vidRGB = formatearVideo(vidRGB)\n",
    "                vidRGB = vidRGB.transpose((3, 0, 1, 2))\n",
    "\n",
    "                vidDepth = leer_una_seña_video(pathNombresDepth[(int)(i/2)])\n",
    "                vidDepth = recortarVideo(vidDepth, cantFrames)\n",
    "                vidDepth = espejoVideo(vidDepth)\n",
    "                vidDepth = formatearVideo(vidDepth)\n",
    "                vidDepth = vidDepth.transpose((3, 0, 1, 2))\n",
    "\n",
    "                vid = juntarRGBandDepth(vidRGB, vidDepth)\n",
    "                vid.shape\n",
    "\n",
    "                boolEspejo = False\n",
    "\n",
    "            else:\n",
    "                vidRGB = leer_una_seña_video(pathNombresRGB[(int)(i/2)])        \n",
    "                vidRGB = recortarVideo(vidRGB, cantFrames)\n",
    "                vidRGB = formatearVideo(vidRGB)\n",
    "                vidRGB = vidRGB.transpose((3, 0, 1, 2))\n",
    "\n",
    "                vidDepth = leer_una_seña_video(pathNombresDepth[(int)(i/2)])\n",
    "                vidDepth = recortarVideo(vidDepth, cantFrames)\n",
    "                vidDepth = formatearVideo(vidDepth)\n",
    "                vidDepth = vidDepth.transpose((3, 0, 1, 2))\n",
    "\n",
    "                vid = juntarRGBandDepth(vidRGB, vidDepth)\n",
    "                vid.shape           \n",
    "\n",
    "                boolEspejo = True\n",
    "                '''\n",
    "            \n",
    "            \n",
    "            vidRGB = leer_una_seña_video(pathNombresRGB[i])        \n",
    "            vidRGB = recortarVideo(vidRGB, cantFrames)\n",
    "            vidRGB = (vidRGB - np.min(vidRGB))/ (np.max(vidRGB) - np.min(vidRGB))\n",
    "            vidRGB = formatearVideo(vidRGB)\n",
    "            vidRGB = vidRGB.transpose((3, 0, 1, 2))\n",
    "            \n",
    "            \n",
    "            vidDepth = leer_una_seña_video(pathNombresDepth[i])\n",
    "            vidDepth = recortarVideo(vidDepth, cantFrames)\n",
    "            vidDepth = (vidDepth - np.min(vidDepth))/ (np.max(vidDepth) - np.min(vidDepth))\n",
    "            vidDepth = formatearVideo(vidDepth)\n",
    "            vidDepth = vidDepth.transpose((3, 0, 1, 2))\n",
    "\n",
    "            vid = juntarRGBandDepth(vidRGB, vidDepth)\n",
    "            vid = vid.transpose((1, 2, 3, 0))\n",
    "            #vid.shape\n",
    "            \n",
    "            #dataX.append(vid[0:4])\n",
    "            dataX.append(vid)\n",
    "            valY = dataY_Entrada[i]\n",
    "            #valY = dataY_Entrada[(int)(i/2)]\n",
    "            dataY.append(valY)\n",
    "            \n",
    "            \n",
    "            i += 1\n",
    "        yield np.array(dataX), np.array(dataY)"
   ]
  },
  {
   "cell_type": "code",
   "execution_count": 17,
   "metadata": {},
   "outputs": [],
   "source": [
    "#gen_a = my_generator(pathNombresRGB, pathNombresDepth, cantFrames, cantData, dataY_Entrada, bach_size)"
   ]
  },
  {
   "cell_type": "code",
   "execution_count": 18,
   "metadata": {},
   "outputs": [
    {
     "data": {
      "text/plain": [
       "'\\nvids = []\\nfor i in range(10):\\n    res = next(gen_a)\\n    print(res[0].shape)\\n'"
      ]
     },
     "execution_count": 18,
     "metadata": {},
     "output_type": "execute_result"
    }
   ],
   "source": [
    "'''\n",
    "vids = []\n",
    "for i in range(10):\n",
    "    res = next(gen_a)\n",
    "    print(res[0].shape)\n",
    "'''"
   ]
  },
  {
   "cell_type": "code",
   "execution_count": 19,
   "metadata": {},
   "outputs": [],
   "source": [
    "#gen_a = my_generator(pathNombresRGB, pathNombresDepth, cantFrames, cantData, dataY_Entrada, bach_size)"
   ]
  },
  {
   "cell_type": "code",
   "execution_count": 20,
   "metadata": {},
   "outputs": [
    {
     "data": {
      "text/plain": [
       "'\\nimport matplotlib.pyplot as plt\\n%matplotlib inline\\n\\nres = next(gen_a)\\n\\nfig = plt.figure()\\n\\nfor i in range(16):\\n    plt.subplot(4, 4, i+1)\\n    plt.imshow(res[0][0][i])\\nplt.show()\\n'"
      ]
     },
     "execution_count": 20,
     "metadata": {},
     "output_type": "execute_result"
    }
   ],
   "source": [
    "'''\n",
    "import matplotlib.pyplot as plt\n",
    "%matplotlib inline\n",
    "\n",
    "res = next(gen_a)\n",
    "\n",
    "fig = plt.figure()\n",
    "\n",
    "for i in range(16):\n",
    "    plt.subplot(4, 4, i+1)\n",
    "    plt.imshow(res[0][0][i])\n",
    "plt.show()\n",
    "'''"
   ]
  },
  {
   "cell_type": "markdown",
   "metadata": {},
   "source": [
    "# Entrenar"
   ]
  },
  {
   "cell_type": "code",
   "execution_count": 21,
   "metadata": {},
   "outputs": [
    {
     "name": "stdout",
     "output_type": "stream",
     "text": [
      "35878\n",
      "(35878, 249)\n",
      "5784\n",
      "(5784, 249)\n"
     ]
    }
   ],
   "source": [
    "import numpy as np\n",
    "\n",
    "bach_size_T = 8\n",
    "bach_size_V = bach_size_T\n",
    "cantFrames = 16\n",
    "\n",
    "cantData_T = 35878\n",
    "pathNombresRGB_T, pathNombresDepth_T, clases_T = leerNombresTrain('../train_list.txt', cantData_T)\n",
    "print(len(pathNombresRGB_T))\n",
    "dataY_Entrada_T = utils.to_categorical(clases_T)\n",
    "print(dataY_Entrada_T.shape)\n",
    "\n",
    "cantData_V = 5784\n",
    "pathNombresRGB_V, pathNombresDepth_V, clases_V = leerNombresTrain('../valid_list.txt', cantData_V)\n",
    "print(len(pathNombresRGB_V))\n",
    "dataY_Entrada_V = utils.to_categorical(clases_V)\n",
    "print(dataY_Entrada_V.shape)\n",
    "\n",
    "\n",
    "# Generators\n",
    "training_generator = my_generator(pathNombresRGB_T, pathNombresDepth_T, cantFrames, cantData_T, dataY_Entrada_T, bach_size_T)\n",
    "validation_generator = my_generator(pathNombresRGB_V, pathNombresDepth_V, cantFrames, cantData_V, dataY_Entrada_V, bach_size_V)\n",
    "#training_generator = DataGenerator(partition['train'], labels, **params)\n",
    "#validation_generator = DataGenerator(partition['validation'], labels, **params)\n",
    "\n"
   ]
  },
  {
   "cell_type": "markdown",
   "metadata": {},
   "source": [
    "## Modelo"
   ]
  },
  {
   "cell_type": "code",
   "execution_count": 22,
   "metadata": {},
   "outputs": [],
   "source": [
    "from keras.models import Sequential\n",
    "from keras.layers.core import Dense, Dropout, Flatten\n",
    "from keras.layers.convolutional import MaxPooling3D, ZeroPadding3D, Conv3D\n",
    "from keras.optimizers import Adam\n",
    "from keras.layers import LSTM\n",
    "from keras.models import Model\n",
    "from keras.layers import Input, Activation, Embedding, merge, LSTM, Dropout, Dense, RepeatVector, BatchNormalization, \\\n",
    "    TimeDistributed, Flatten, Reshape"
   ]
  },
  {
   "cell_type": "code",
   "execution_count": 23,
   "metadata": {},
   "outputs": [
    {
     "name": "stdout",
     "output_type": "stream",
     "text": [
      "WARNING:tensorflow:From /usr/local/lib/python3.6/dist-packages/tensorflow/python/framework/op_def_library.py:263: colocate_with (from tensorflow.python.framework.ops) is deprecated and will be removed in a future version.\n",
      "Instructions for updating:\n",
      "Colocations handled automatically by placer.\n",
      "WARNING:tensorflow:From /usr/local/lib/python3.6/dist-packages/keras/backend/tensorflow_backend.py:3445: calling dropout (from tensorflow.python.ops.nn_ops) with keep_prob is deprecated and will be removed in a future version.\n",
      "Instructions for updating:\n",
      "Please use `rate` instead of `keep_prob`. Rate should be set to `rate = 1 - keep_prob`.\n",
      "_________________________________________________________________\n",
      "Layer (type)                 Output Shape              Param #   \n",
      "=================================================================\n",
      "input_1 (InputLayer)         (None, 16, 112, 112, 6)   0         \n",
      "_________________________________________________________________\n",
      "conv1 (Conv3D)               (None, 16, 112, 112, 64)  10432     \n",
      "_________________________________________________________________\n",
      "pool1 (MaxPooling3D)         (None, 16, 56, 56, 64)    0         \n",
      "_________________________________________________________________\n",
      "conv2 (Conv3D)               (None, 16, 56, 56, 128)   221312    \n",
      "_________________________________________________________________\n",
      "pool2 (MaxPooling3D)         (None, 8, 28, 28, 128)    0         \n",
      "_________________________________________________________________\n",
      "conv3a (Conv3D)              (None, 8, 28, 28, 256)    884992    \n",
      "_________________________________________________________________\n",
      "conv3b (Conv3D)              (None, 8, 28, 28, 256)    1769728   \n",
      "_________________________________________________________________\n",
      "pool3 (MaxPooling3D)         (None, 4, 14, 14, 256)    0         \n",
      "_________________________________________________________________\n",
      "conv4a (Conv3D)              (None, 4, 14, 14, 512)    3539456   \n",
      "_________________________________________________________________\n",
      "conv4b (Conv3D)              (None, 4, 14, 14, 512)    7078400   \n",
      "_________________________________________________________________\n",
      "pool4 (MaxPooling3D)         (None, 2, 7, 7, 512)      0         \n",
      "_________________________________________________________________\n",
      "conv5a (Conv3D)              (None, 2, 7, 7, 512)      7078400   \n",
      "_________________________________________________________________\n",
      "conv5b (Conv3D)              (None, 2, 7, 7, 512)      7078400   \n",
      "_________________________________________________________________\n",
      "zero_padding3d_1 (ZeroPaddin (None, 2, 9, 9, 512)      0         \n",
      "_________________________________________________________________\n",
      "pool5 (MaxPooling3D)         (None, 1, 4, 4, 512)      0         \n",
      "_________________________________________________________________\n",
      "flatten_1 (Flatten)          (None, 8192)              0         \n",
      "_________________________________________________________________\n",
      "fc6 (Dense)                  (None, 4096)              33558528  \n",
      "_________________________________________________________________\n",
      "dropout_1 (Dropout)          (None, 4096)              0         \n",
      "_________________________________________________________________\n",
      "fc7 (Dense)                  (None, 4096)              16781312  \n",
      "_________________________________________________________________\n",
      "dropout_2 (Dropout)          (None, 4096)              0         \n",
      "_________________________________________________________________\n",
      "fc8 (Dense)                  (None, 249)               1020153   \n",
      "=================================================================\n",
      "Total params: 79,021,113\n",
      "Trainable params: 79,021,113\n",
      "Non-trainable params: 0\n",
      "_________________________________________________________________\n",
      "None\n"
     ]
    },
    {
     "name": "stderr",
     "output_type": "stream",
     "text": [
      "/usr/local/lib/python3.6/dist-packages/ipykernel_launcher.py:27: UserWarning: Update your `Conv3D` call to the Keras 2 API: `Conv3D(512, (3, 3, 3), activation=\"relu\", padding=\"same\", name=\"conv5a\", strides=(1, 1, 1))`\n",
      "/usr/local/lib/python3.6/dist-packages/ipykernel_launcher.py:28: UserWarning: Update your `Conv3D` call to the Keras 2 API: `Conv3D(512, (3, 3, 3), activation=\"relu\", padding=\"same\", name=\"conv5b\", strides=(1, 1, 1))`\n"
     ]
    }
   ],
   "source": [
    "def get_model(summary=False):\n",
    "    \"\"\" Return the Keras model of the network\n",
    "    \"\"\"\n",
    "    \n",
    "    inputs = Input(shape=(16, 112, 112, 6))\n",
    "    #inputs = Input(shape=(3, 16, 112, 112))\n",
    "    \n",
    "    # 1st layer group\n",
    "    x = Conv3D(64, (3, 3, 3), activation='relu', padding='same', name='conv1', strides=(1, 1, 1))(inputs)\n",
    "    x = MaxPooling3D(pool_size=(1, 2, 2), strides=(1, 2, 2), padding='valid', name='pool1')(x)\n",
    "    \n",
    "    # 2nd layer group\n",
    "    x = Conv3D(128, (3, 3, 3), activation='relu', padding='same', name='conv2', strides=(1, 1, 1))(x)\n",
    "    x = MaxPooling3D(pool_size=(2, 2, 2), strides=(2, 2, 2), padding='valid', name='pool2')(x)\n",
    "    \n",
    "    # 3rd layer group\n",
    "    x = Conv3D(256, (3, 3, 3), activation='relu', padding='same', name='conv3a', strides=(1, 1, 1))(x)\n",
    "    x = Conv3D(256, (3, 3, 3), activation='relu', padding='same', name='conv3b', strides=(1, 1, 1))(x)\n",
    "    x = MaxPooling3D(pool_size=(2, 2, 2), strides=(2, 2, 2), padding='valid', name='pool3')(x)\n",
    "    \n",
    "    # 4th layer group\n",
    "    x = Conv3D(512, (3, 3, 3), activation='relu', padding='same', name='conv4a', strides=(1, 1, 1))(x)\n",
    "    x = Conv3D(512, (3, 3, 3), activation='relu', padding='same', name='conv4b', strides=(1, 1, 1))(x)\n",
    "    x = MaxPooling3D(pool_size=(2, 2, 2), strides=(2, 2, 2), padding='valid', name='pool4')(x)\n",
    "    \n",
    "    # 5th layer group\n",
    "    x = Conv3D(512, 3, 3, 3, activation='relu', padding='same', name='conv5a', strides=(1, 1, 1))(x)\n",
    "    x = Conv3D(512, 3, 3, 3, activation='relu', padding='same', name='conv5b', strides=(1, 1, 1))(x)\n",
    "    x = ZeroPadding3D(padding=(0, 1, 1))(x)\n",
    "    x = MaxPooling3D(pool_size=(2, 2, 2), strides=(2, 2, 2), padding='valid', name='pool5')(x)\n",
    "    x = Flatten()(x)\n",
    "    \n",
    "    # FC layers group\n",
    "    x = Dense(4096, activation='relu', name='fc6')(x)\n",
    "    x = Dropout(.5)(x)\n",
    "    x = Dense(4096, activation='relu', name='fc7')(x)\n",
    "    x = Dropout(.5)(x)\n",
    "    predictions = Dense(249, activation='softmax', name='fc8')(x)\n",
    "    \n",
    "    \n",
    "    model = Model(inputs=inputs, outputs=predictions)\n",
    "    \n",
    "    if summary:\n",
    "        print(model.summary())\n",
    "    return model\n",
    "\n",
    "model = get_model(summary=True)"
   ]
  },
  {
   "cell_type": "code",
   "execution_count": 25,
   "metadata": {},
   "outputs": [],
   "source": [
    "#import keras\n",
    "#from keras.models import model_from_json\n",
    "\n",
    "#model = model_from_json(open('RNN_isolate_model_RGB_D_9.json', 'r').read())\n",
    "#model.load_weights('RNN_isolate_weights_RGB_D_9.h5')"
   ]
  },
  {
   "cell_type": "code",
   "execution_count": 26,
   "metadata": {},
   "outputs": [],
   "source": [
    "import keras\n",
    "from keras.optimizers import Adam, SGD\n",
    "\n",
    "model.compile(loss=keras.losses.categorical_crossentropy, optimizer=SGD(), metrics=['acc'])\n",
    "#model.compile(loss=keras.losses.categorical_crossentropy, optimizer=sgd, metrics=['acc'])"
   ]
  },
  {
   "cell_type": "code",
   "execution_count": 27,
   "metadata": {},
   "outputs": [
    {
     "name": "stdout",
     "output_type": "stream",
     "text": [
      "8\n",
      "8\n",
      "WARNING:tensorflow:From /usr/local/lib/python3.6/dist-packages/tensorflow/python/ops/math_ops.py:3066: to_int32 (from tensorflow.python.ops.math_ops) is deprecated and will be removed in a future version.\n",
      "Instructions for updating:\n",
      "Use tf.cast instead.\n",
      "Epoch 1/10\n",
      "4484/4484 [==============================] - 4202s 937ms/step - loss: 0.3801 - acc: 0.8705 - val_loss: 4.7260 - val_acc: 0.1928\n",
      "Epoch 2/10\n",
      "4484/4484 [==============================] - 4191s 935ms/step - loss: 0.3305 - acc: 0.8875 - val_loss: 4.4924 - val_acc: 0.2229\n",
      "Epoch 3/10\n",
      "4484/4484 [==============================] - 4192s 935ms/step - loss: 0.2864 - acc: 0.9023 - val_loss: 5.0229 - val_acc: 0.2267\n",
      "Epoch 4/10\n",
      "4484/4484 [==============================] - 4193s 935ms/step - loss: 0.2504 - acc: 0.9168 - val_loss: 4.5976 - val_acc: 0.2059\n",
      "Epoch 5/10\n",
      "4484/4484 [==============================] - 4195s 936ms/step - loss: 0.2248 - acc: 0.9249 - val_loss: 4.7472 - val_acc: 0.2337\n",
      "Epoch 6/10\n",
      "4484/4484 [==============================] - 4198s 936ms/step - loss: 0.2016 - acc: 0.9338 - val_loss: 4.7548 - val_acc: 0.2431\n",
      "Epoch 7/10\n",
      "4484/4484 [==============================] - 4194s 935ms/step - loss: 0.1747 - acc: 0.9434 - val_loss: 5.1179 - val_acc: 0.2322\n",
      "Epoch 8/10\n",
      "4484/4484 [==============================] - 4191s 935ms/step - loss: 0.1622 - acc: 0.9478 - val_loss: 5.2196 - val_acc: 0.2251\n",
      "Epoch 9/10\n",
      "4484/4484 [==============================] - 4189s 934ms/step - loss: 0.1403 - acc: 0.9543 - val_loss: 5.0488 - val_acc: 0.2299\n",
      "Epoch 10/10\n",
      "4484/4484 [==============================] - 4190s 934ms/step - loss: 0.1260 - acc: 0.9600 - val_loss: 5.0181 - val_acc: 0.2315\n"
     ]
    },
    {
     "data": {
      "text/plain": [
       "'\\n\\nresult_train = model.fit_generator(\\n    generator=training_generator,\\n    epochs=20,\\n    steps_per_epoch=cantDataDoble_T // bach_size_T)\\n'"
      ]
     },
     "execution_count": 27,
     "metadata": {},
     "output_type": "execute_result"
    }
   ],
   "source": [
    "from keras.callbacks import TensorBoard\n",
    "\n",
    "#cantDataDoble_T = cantData_T*2\n",
    "#cantDataDoble_V = cantData_V*2\n",
    "\n",
    "cantDataDoble_T = cantData_T\n",
    "cantDataDoble_V = cantData_V\n",
    "print(bach_size_T)\n",
    "print(bach_size_V)\n",
    "\n",
    "\n",
    "result_train = model.fit_generator(\n",
    "    generator=training_generator,\n",
    "    epochs=10,\n",
    "    steps_per_epoch=cantDataDoble_T // bach_size_T,\n",
    "    validation_data=validation_generator,\n",
    "    validation_steps=cantDataDoble_V // bach_size_V)\n",
    "'''\n",
    "\n",
    "result_train = model.fit_generator(\n",
    "    generator=training_generator,\n",
    "    epochs=20,\n",
    "    steps_per_epoch=cantDataDoble_T // bach_size_T)\n",
    "'''"
   ]
  },
  {
   "cell_type": "code",
   "execution_count": 28,
   "metadata": {},
   "outputs": [
    {
     "data": {
      "image/png": "[encoded data removed]",
      "text/plain": [
       "<matplotlib.figure.Figure at 0x7f3fffca7cc0>"
      ]
     },
     "metadata": {
      "needs_background": "light"
     },
     "output_type": "display_data"
    },
    {
     "data": {
      "image/png": "[encoded data removed]",
      "text/plain": [
       "<matplotlib.figure.Figure at 0x7f3fffc4f518>"
      ]
     },
     "metadata": {
      "needs_background": "light"
     },
     "output_type": "display_data"
    }
   ],
   "source": [
    "import matplotlib.pyplot as plt\n",
    "accuracy = result_train.history['acc']\n",
    "val_accuracy = result_train.history['val_acc']\n",
    "loss = result_train.history['loss']\n",
    "val_loss = result_train.history['val_loss']\n",
    "epochs = range(len(accuracy))\n",
    "plt.plot(epochs, accuracy, 'bo', label='Training accuracy')\n",
    "plt.plot(epochs, val_accuracy, 'b', label='Validation accuracy')\n",
    "plt.title('Training and validat1137153748ion accuracy')\n",
    "plt.legend()\n",
    "plt.figure()\n",
    "plt.plot(epochs, loss, 'bo', label='Training loss')\n",
    "plt.plot(epochs, val_loss, 'b', label='Validation loss')\n",
    "plt.title('Training and validation loss')\n",
    "plt.legend()\n",
    "plt.show()\n",
    "plt.show()"
   ]
  },
  {
   "cell_type": "code",
   "execution_count": 29,
   "metadata": {},
   "outputs": [],
   "source": [
    "import h5py\n",
    "\n",
    "model.save_weights('RNN_isolate_weights_RGB_D_9.h5', overwrite=True)\n",
    "json_string = model.to_json()\n",
    "with open('RNN_isolate_model_RGB_D_9.json', 'w') as f:\n",
    "    f.write(json_string)"
   ]
  },
  {
   "cell_type": "markdown",
   "metadata": {},
   "source": [
    "# Testing"
   ]
  },
  {
   "cell_type": "markdown",
   "metadata": {},
   "source": [
    "Train"
   ]
  },
  {
   "cell_type": "code",
   "execution_count": 30,
   "metadata": {},
   "outputs": [
    {
     "name": "stdout",
     "output_type": "stream",
     "text": [
      "4484/4484 [==============================] - 1522s 339ms/step\n",
      "Test loss: 0.07569996794366565\n",
      "Test accuracy: 0.9755519625334522\n"
     ]
    }
   ],
   "source": [
    "scores = model.evaluate_generator(generator=training_generator, steps=cantDataDoble_T // bach_size_T, verbose=1)\n",
    "print('Test loss:', scores[0])\n",
    "print('Test accuracy:', scores[1])"
   ]
  },
  {
   "cell_type": "markdown",
   "metadata": {},
   "source": [
    "Valid"
   ]
  },
  {
   "cell_type": "code",
   "execution_count": 31,
   "metadata": {},
   "outputs": [
    {
     "name": "stdout",
     "output_type": "stream",
     "text": [
      "723/723 [==============================] - 246s 341ms/step\n",
      "Test loss: 5.018126431424918\n",
      "Test accuracy: 0.23150069156293224\n"
     ]
    }
   ],
   "source": [
    "scores = model.evaluate_generator(generator=validation_generator, steps=cantDataDoble_V // bach_size_V, verbose=1)\n",
    "print('Test loss:', scores[0])\n",
    "print('Test accuracy:', scores[1])"
   ]
  },
  {
   "cell_type": "markdown",
   "metadata": {},
   "source": [
    "Test"
   ]
  },
  {
   "cell_type": "code",
   "execution_count": 32,
   "metadata": {},
   "outputs": [
    {
     "name": "stdout",
     "output_type": "stream",
     "text": [
      "6271\n",
      "(6271, 249)\n"
     ]
    }
   ],
   "source": [
    "bach_size_Test = bach_size_T\n",
    "cantFrames = 16\n",
    "\n",
    "cantData_Test = 6271\n",
    "pathNombresRGB_Test, pathNombresDepth_Test, clases_Test = leerNombresTrain('../test_list.txt', cantData_Test)\n",
    "print(len(pathNombresRGB_Test))\n",
    "dataY_Entrada_Test = utils.to_categorical(clases_Test)\n",
    "print(dataY_Entrada_Test.shape)\n",
    "\n",
    "# Generators\n",
    "test_generator = my_generator(pathNombresRGB_Test, pathNombresDepth_Test, cantFrames, cantData_Test, dataY_Entrada_Test, bach_size_Test)"
   ]
  },
  {
   "cell_type": "code",
   "execution_count": 33,
   "metadata": {},
   "outputs": [
    {
     "name": "stdout",
     "output_type": "stream",
     "text": [
      "783/783 [==============================] - 263s 336ms/step\n",
      "Test loss: 4.809353960123707\n",
      "Test accuracy: 0.29390166028097064\n"
     ]
    }
   ],
   "source": [
    "scores = model.evaluate_generator(generator=test_generator, steps=cantData_Test // bach_size_Test, verbose=1)\n",
    "print('Test loss:', scores[0])\n",
    "print('Test accuracy:', scores[1])"
   ]
  },
  {
   "cell_type": "code",
   "execution_count": null,
   "metadata": {},
   "outputs": [],
   "source": []
  }
 ],
 "metadata": {
  "kernelspec": {
   "display_name": "Python 3",
   "language": "python",
   "name": "python3"
  },
  "language_info": {
   "codemirror_mode": {
    "name": "ipython",
    "version": 3
   },
   "file_extension": ".py",
   "mimetype": "text/x-python",
   "name": "python",
   "nbconvert_exporter": "python",
   "pygments_lexer": "ipython3",
   "version": "3.6.7"
  }
 },
 "nbformat": 4,
 "nbformat_minor": 2
}
