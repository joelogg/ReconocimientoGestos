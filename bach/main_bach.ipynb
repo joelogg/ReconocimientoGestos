{
 "cells": [
  {
   "cell_type": "code",
   "execution_count": 1,
   "metadata": {},
   "outputs": [
    {
     "name": "stdout",
     "output_type": "stream",
     "text": [
      "This is printed first ja\n",
      "1\n",
      "This is printed second ja\n",
      "2\n",
      "This is printed at last ja\n",
      "3\n"
     ]
    }
   ],
   "source": [
    "# A simple generator function\n",
    "def my_gen(val):\n",
    "    n = 1\n",
    "    print('This is printed first', val)\n",
    "    # Generator function contains yield statements\n",
    "    yield n\n",
    "\n",
    "    n += 1\n",
    "    print('This is printed second', val)\n",
    "    yield n\n",
    "\n",
    "    n += 1\n",
    "    print('This is printed at last', val)\n",
    "    yield n\n",
    "\n",
    "gen_a = my_gen(\"ja\")\n",
    "# Using for loop\n",
    "for item in gen_a:\n",
    "    print(item)    \n",
    "\n",
    "#print(next(gen_b))"
   ]
  },
  {
   "cell_type": "markdown",
   "metadata": {},
   "source": [
    "# Leer Nombres"
   ]
  },
  {
   "cell_type": "code",
   "execution_count": 1,
   "metadata": {},
   "outputs": [],
   "source": [
    "import re\n",
    "\n",
    "#Leer los nombres de la data (RGB, profundida, tipo)\n",
    "def leerNombresTrain(path, cantMaxima):\n",
    "    f = open(path, 'r+')\n",
    "    \n",
    "    pathNombresRGB = []\n",
    "    pathNombresDepth = []\n",
    "    clases = []\n",
    "    cant = 0\n",
    "    for line in f.readlines():\n",
    "        \n",
    "        line = line.split(\" \")\n",
    "        pathNombresRGB.append(\"SilentsData/NoSilent_\"+line[0])\n",
    "        pathNombresDepth.append(\"SilentsData/NoSilent_\"+line[1])\n",
    "        clases.append( int( re.sub(\"\\D\", \"\", line[2]) ) -1 )\n",
    "        \n",
    "        cant = cant + 1\n",
    "        if cant>=cantMaxima:\n",
    "            break\n",
    "        \n",
    "    f.close()\n",
    "    \n",
    "    return pathNombresRGB, pathNombresDepth, clases"
   ]
  },
  {
   "cell_type": "code",
   "execution_count": 2,
   "metadata": {},
   "outputs": [
    {
     "name": "stdout",
     "output_type": "stream",
     "text": [
      "5\n",
      "5\n",
      "5\n",
      "['SilentsData/NoSilent_test/001/M_00001.avi', 'SilentsData/NoSilent_test/001/M_00002.avi', 'SilentsData/NoSilent_test/001/M_00003.avi', 'SilentsData/NoSilent_test/001/M_00004.avi', 'SilentsData/NoSilent_test/001/M_00005.avi']\n",
      "['SilentsData/NoSilent_test/001/K_00001.avi', 'SilentsData/NoSilent_test/001/K_00002.avi', 'SilentsData/NoSilent_test/001/K_00003.avi', 'SilentsData/NoSilent_test/001/K_00004.avi', 'SilentsData/NoSilent_test/001/K_00005.avi']\n",
      "[37, 51, 189, 38, 195]\n"
     ]
    }
   ],
   "source": [
    "cantData = 5\n",
    "pathNombresRGB, pathNombresDepth, clases = leerNombresTrain('../test_list.txt', cantData)\n",
    "print(len(pathNombresRGB))\n",
    "print(len(pathNombresDepth))\n",
    "print(len(clases))\n",
    "print(pathNombresRGB)\n",
    "print(pathNombresDepth)\n",
    "print(clases)"
   ]
  },
  {
   "cell_type": "markdown",
   "metadata": {},
   "source": [
    "# Leer Video"
   ]
  },
  {
   "cell_type": "code",
   "execution_count": 3,
   "metadata": {},
   "outputs": [],
   "source": [
    "import cv2\n",
    "import numpy as np\n",
    "import glob\n",
    "\n",
    "#Se lee los videos rgb\n",
    "def leer_una_seña_video(nombreVid):\n",
    "    \n",
    "    cap = cv2.VideoCapture('../'+nombreVid)\n",
    "    vid = []\n",
    "    while True:\n",
    "        ret, img = cap.read()\n",
    "        if not ret:\n",
    "            break\n",
    "        vid.append(cv2.resize(img, (160, 120)))    \n",
    "        #vid.append(img)    \n",
    "    return vid"
   ]
  },
  {
   "cell_type": "markdown",
   "metadata": {},
   "source": [
    "# Dar formato a la data para entrenar"
   ]
  },
  {
   "cell_type": "code",
   "execution_count": 4,
   "metadata": {},
   "outputs": [],
   "source": [
    "def recortarVideo(vid, tam):\n",
    "    razon = len(vid)/tam\n",
    "    vidR = []\n",
    "    if (len(vid)<=0):\n",
    "        return vidR\n",
    "    for i in range(tam):\n",
    "        vidR.append( vid[(int)(i*razon)] )\n",
    "    del vid\n",
    "    return vidR"
   ]
  },
  {
   "cell_type": "code",
   "execution_count": 5,
   "metadata": {},
   "outputs": [],
   "source": [
    "def formatearVideo(vid):\n",
    "    vid = np.array(vid)\n",
    "    return vid"
   ]
  },
  {
   "cell_type": "code",
   "execution_count": 6,
   "metadata": {},
   "outputs": [],
   "source": [
    "def juntarRGBandDepth(rgb, depth):\n",
    "    return np.array( np.concatenate((rgb, depth)) )"
   ]
  },
  {
   "cell_type": "code",
   "execution_count": 7,
   "metadata": {},
   "outputs": [],
   "source": [
    "def combinar(vid):\n",
    "    resp = []\n",
    "    resp.append(vid[0])\n",
    "    resp.append(vid[3])\n",
    "    resp.append(vid[1])\n",
    "    resp.append(vid[4])\n",
    "    resp.append(vid[2])\n",
    "    resp.append(vid[5])\n",
    "    return np.array(resp)"
   ]
  },
  {
   "cell_type": "code",
   "execution_count": 8,
   "metadata": {},
   "outputs": [],
   "source": [
    "def espejoVideo(vid):\n",
    "    vidNew = []\n",
    "    for img in vid:\n",
    "        vidNew.append( cv2.flip( img, 1 ) )\n",
    "    del vid\n",
    "    return vidNew"
   ]
  },
  {
   "cell_type": "code",
   "execution_count": null,
   "metadata": {},
   "outputs": [],
   "source": []
  },
  {
   "cell_type": "code",
   "execution_count": 9,
   "metadata": {},
   "outputs": [],
   "source": [
    "cantFrames = 16\n",
    "bach_size = 8"
   ]
  },
  {
   "cell_type": "code",
   "execution_count": 10,
   "metadata": {},
   "outputs": [
    {
     "data": {
      "text/plain": [
       "150"
      ]
     },
     "execution_count": 10,
     "metadata": {},
     "output_type": "execute_result"
    }
   ],
   "source": [
    "cantData = 150\n",
    "pathNombresRGB, pathNombresDepth, clases = leerNombresTrain('../train_list.txt', cantData)\n",
    "len(pathNombresRGB)"
   ]
  },
  {
   "cell_type": "code",
   "execution_count": 11,
   "metadata": {},
   "outputs": [
    {
     "name": "stdout",
     "output_type": "stream",
     "text": [
      "(16, 120, 160, 3)\n",
      "(6, 16, 120, 160)\n",
      "(6, 16, 120, 160)\n"
     ]
    }
   ],
   "source": [
    "vidRGB = leer_una_seña_video(pathNombresRGB[0])   \n",
    "vidRGB = recortarVideo(vidRGB, cantFrames)\n",
    "vidRGB = formatearVideo(vidRGB)\n",
    "print(vidRGB.shape)\n",
    "vidRGB = vidRGB.transpose((3, 0, 1, 2))\n",
    "vidRGB = vidRGB/256\n",
    "            \n",
    "vidDepth = leer_una_seña_video(pathNombresDepth[0])\n",
    "vidDepth = recortarVideo(vidDepth, cantFrames)\n",
    "vidDepth = formatearVideo(vidDepth)\n",
    "vidDepth = vidDepth.transpose((3, 0, 1, 2))\n",
    "vidDepth = vidDepth/256\n",
    "\n",
    "vid = juntarRGBandDepth(vidRGB, vidDepth)\n",
    "print(vid.shape)\n",
    "vid2 = combinar(vid)\n",
    "print(vid2.shape)"
   ]
  },
  {
   "cell_type": "code",
   "execution_count": null,
   "metadata": {},
   "outputs": [],
   "source": []
  },
  {
   "cell_type": "code",
   "execution_count": null,
   "metadata": {},
   "outputs": [],
   "source": []
  },
  {
   "cell_type": "code",
   "execution_count": 12,
   "metadata": {},
   "outputs": [
    {
     "name": "stderr",
     "output_type": "stream",
     "text": [
      "Using TensorFlow backend.\n"
     ]
    },
    {
     "data": {
      "text/plain": [
       "(150, 239)"
      ]
     },
     "execution_count": 12,
     "metadata": {},
     "output_type": "execute_result"
    }
   ],
   "source": [
    "from keras import utils\n",
    "dataY_Entrada = utils.to_categorical(clases)\n",
    "dataY_Entrada.shape"
   ]
  },
  {
   "cell_type": "code",
   "execution_count": 13,
   "metadata": {},
   "outputs": [],
   "source": [
    "def my_generator(pathNombresRGB, pathNombresDepth, cantFrames, cantData, dataY_Entrada, bach_size):\n",
    "    i = 0\n",
    "    boolEspejo = False\n",
    "    while True:\n",
    "        \n",
    "        \n",
    "        \n",
    "        dataX = []\n",
    "        dataY = []\n",
    "        \n",
    "        for _ in range(bach_size):\n",
    "            \n",
    "            #if(i >= cantData*2):\n",
    "            if(i >= cantData):\n",
    "                i=0\n",
    "            '''\n",
    "            if (boolEspejo):\n",
    "                vidRGB = leer_una_seña_video(pathNombresRGB[(int)(i/2)])        \n",
    "                vidRGB = recortarVideo(vidRGB, cantFrames)\n",
    "                vidRGB = espejoVideo(vidRGB)\n",
    "                vidRGB = formatearVideo(vidRGB)\n",
    "                vidRGB = vidRGB.transpose((3, 0, 1, 2))\n",
    "\n",
    "                vidDepth = leer_una_seña_video(pathNombresDepth[(int)(i/2)])\n",
    "                vidDepth = recortarVideo(vidDepth, cantFrames)\n",
    "                vidDepth = espejoVideo(vidDepth)\n",
    "                vidDepth = formatearVideo(vidDepth)\n",
    "                vidDepth = vidDepth.transpose((3, 0, 1, 2))\n",
    "\n",
    "                vid = juntarRGBandDepth(vidRGB, vidDepth)\n",
    "                vid.shape\n",
    "\n",
    "                boolEspejo = False\n",
    "\n",
    "            else:\n",
    "                vidRGB = leer_una_seña_video(pathNombresRGB[(int)(i/2)])        \n",
    "                vidRGB = recortarVideo(vidRGB, cantFrames)\n",
    "                vidRGB = formatearVideo(vidRGB)\n",
    "                vidRGB = vidRGB.transpose((3, 0, 1, 2))\n",
    "\n",
    "                vidDepth = leer_una_seña_video(pathNombresDepth[(int)(i/2)])\n",
    "                vidDepth = recortarVideo(vidDepth, cantFrames)\n",
    "                vidDepth = formatearVideo(vidDepth)\n",
    "                vidDepth = vidDepth.transpose((3, 0, 1, 2))\n",
    "\n",
    "                vid = juntarRGBandDepth(vidRGB, vidDepth)\n",
    "                vid.shape           \n",
    "\n",
    "                boolEspejo = True\n",
    "                '''\n",
    "            \n",
    "            vidRGB = leer_una_seña_video(pathNombresRGB[i])        \n",
    "            vidRGB = recortarVideo(vidRGB, cantFrames)\n",
    "            vidRGB = formatearVideo(vidRGB)\n",
    "            vidRGB = vidRGB.transpose((3, 0, 1, 2))\n",
    "            vidRGB = vidRGB/256\n",
    "            \n",
    "\n",
    "            vidDepth = leer_una_seña_video(pathNombresDepth[i])\n",
    "            vidDepth = recortarVideo(vidDepth, cantFrames)\n",
    "            vidDepth = formatearVideo(vidDepth)\n",
    "            vidDepth = vidDepth.transpose((3, 0, 1, 2))\n",
    "            vidDepth = vidDepth/256\n",
    "\n",
    "            vid = juntarRGBandDepth(vidRGB, vidDepth)\n",
    "            vid = combinar(vid)\n",
    "            \n",
    "            dataX.append(vid)\n",
    "            valY = dataY_Entrada[i]\n",
    "            #valY = dataY_Entrada[(int)(i/2)]\n",
    "            dataY.append(valY)\n",
    "            \n",
    "            \n",
    "            i += 1\n",
    "        yield np.array(dataX), np.array(dataY)"
   ]
  },
  {
   "cell_type": "code",
   "execution_count": 14,
   "metadata": {},
   "outputs": [],
   "source": [
    "#gen_a = my_generator(pathNombresRGB, pathNombresDepth, cantFrames, cantData, dataY_Entrada, bach_size)"
   ]
  },
  {
   "cell_type": "code",
   "execution_count": 15,
   "metadata": {},
   "outputs": [
    {
     "data": {
      "text/plain": [
       "'\\nvids = []\\nfor i in range(10):\\n    res = next(gen_a)\\n    print(res[0].shape)\\n'"
      ]
     },
     "execution_count": 15,
     "metadata": {},
     "output_type": "execute_result"
    }
   ],
   "source": [
    "'''\n",
    "vids = []\n",
    "for i in range(10):\n",
    "    res = next(gen_a)\n",
    "    print(res[0].shape)\n",
    "'''"
   ]
  },
  {
   "cell_type": "code",
   "execution_count": 16,
   "metadata": {},
   "outputs": [],
   "source": [
    "#gen_a = my_generator(pathNombresRGB, pathNombresDepth, cantFrames, cantData, dataY_Entrada, bach_size)"
   ]
  },
  {
   "cell_type": "code",
   "execution_count": 17,
   "metadata": {},
   "outputs": [
    {
     "data": {
      "text/plain": [
       "'\\nimport matplotlib.pyplot as plt\\n%matplotlib inline\\n\\nres = next(gen_a)\\n\\nfig = plt.figure()\\n\\nfor i in range(16):\\n    plt.subplot(4, 4, i+1)\\n    plt.imshow(res[0][0][i])\\nplt.show()\\n'"
      ]
     },
     "execution_count": 17,
     "metadata": {},
     "output_type": "execute_result"
    }
   ],
   "source": [
    "'''\n",
    "import matplotlib.pyplot as plt\n",
    "%matplotlib inline\n",
    "\n",
    "res = next(gen_a)\n",
    "\n",
    "fig = plt.figure()\n",
    "\n",
    "for i in range(16):\n",
    "    plt.subplot(4, 4, i+1)\n",
    "    plt.imshow(res[0][0][i])\n",
    "plt.show()\n",
    "'''"
   ]
  },
  {
   "cell_type": "markdown",
   "metadata": {},
   "source": [
    "# Entrenar"
   ]
  },
  {
   "cell_type": "code",
   "execution_count": 18,
   "metadata": {},
   "outputs": [
    {
     "name": "stdout",
     "output_type": "stream",
     "text": [
      "35878\n",
      "5784\n"
     ]
    }
   ],
   "source": [
    "import numpy as np\n",
    "\n",
    "bach_size = 32\n",
    "cantFrames = 16\n",
    "\n",
    "cantData_T = 35878\n",
    "pathNombresRGB_T, pathNombresDepth_T, clases_T = leerNombresTrain('../train_list.txt', cantData_T)\n",
    "print(len(pathNombresRGB_T))\n",
    "dataY_Entrada_T = utils.to_categorical(clases_T)\n",
    "dataY_Entrada_T.shape\n",
    "\n",
    "cantData_V = 5784\n",
    "pathNombresRGB_V, pathNombresDepth_V, clases_V = leerNombresTrain('../valid_list.txt', cantData_V)\n",
    "print(len(pathNombresRGB_V))\n",
    "dataY_Entrada_V = utils.to_categorical(clases_V)\n",
    "dataY_Entrada_V.shape\n",
    "\n",
    "\n",
    "# Generators\n",
    "training_generator = my_generator(pathNombresRGB_T, pathNombresDepth_T, cantFrames, cantData_T, dataY_Entrada_T, bach_size)\n",
    "validation_generator = my_generator(pathNombresRGB_V, pathNombresDepth_V, cantFrames, cantData_V, dataY_Entrada_V, bach_size)\n",
    "#training_generator = DataGenerator(partition['train'], labels, **params)\n",
    "#validation_generator = DataGenerator(partition['validation'], labels, **params)\n",
    "\n"
   ]
  },
  {
   "cell_type": "markdown",
   "metadata": {},
   "source": [
    "## Modelo"
   ]
  },
  {
   "cell_type": "code",
   "execution_count": 19,
   "metadata": {},
   "outputs": [],
   "source": [
    "from keras.models import Sequential\n",
    "from keras.layers.core import Dense, Dropout, Flatten\n",
    "from keras.layers.convolutional import MaxPooling3D, ZeroPadding3D, Conv3D\n",
    "from keras.optimizers import SGD, Adam\n",
    "from keras.layers import LSTM\n",
    "from keras.models import Model\n",
    "from keras.layers import Input, Activation, Embedding, merge, LSTM, Dropout, Dense, RepeatVector, BatchNormalization, \\\n",
    "    TimeDistributed, Flatten, Reshape"
   ]
  },
  {
   "cell_type": "code",
   "execution_count": 20,
   "metadata": {},
   "outputs": [
    {
     "name": "stdout",
     "output_type": "stream",
     "text": [
      "WARNING:tensorflow:From /usr/local/lib/python3.6/dist-packages/tensorflow/python/framework/op_def_library.py:263: colocate_with (from tensorflow.python.framework.ops) is deprecated and will be removed in a future version.\n",
      "Instructions for updating:\n",
      "Colocations handled automatically by placer.\n",
      "WARNING:tensorflow:From /usr/local/lib/python3.6/dist-packages/keras/backend/tensorflow_backend.py:3445: calling dropout (from tensorflow.python.ops.nn_ops) with keep_prob is deprecated and will be removed in a future version.\n",
      "Instructions for updating:\n",
      "Please use `rate` instead of `keep_prob`. Rate should be set to `rate = 1 - keep_prob`.\n",
      "_________________________________________________________________\n",
      "Layer (type)                 Output Shape              Param #   \n",
      "=================================================================\n",
      "conv1 (Conv3D)               (None, 6, 16, 120, 64)    276544    \n",
      "_________________________________________________________________\n",
      "pool1 (MaxPooling3D)         (None, 6, 8, 60, 64)      0         \n",
      "_________________________________________________________________\n",
      "conv2 (Conv3D)               (None, 6, 8, 60, 128)     221312    \n",
      "_________________________________________________________________\n",
      "pool2 (MaxPooling3D)         (None, 3, 4, 30, 128)     0         \n",
      "_________________________________________________________________\n",
      "conv3a (Conv3D)              (None, 3, 4, 30, 256)     884992    \n",
      "_________________________________________________________________\n",
      "conv3b (Conv3D)              (None, 3, 4, 30, 256)     1769728   \n",
      "_________________________________________________________________\n",
      "pool3 (MaxPooling3D)         (None, 2, 2, 15, 256)     0         \n",
      "_________________________________________________________________\n",
      "conv4a (Conv3D)              (None, 2, 2, 15, 512)     3539456   \n",
      "_________________________________________________________________\n",
      "conv4b (Conv3D)              (None, 2, 2, 15, 512)     7078400   \n",
      "_________________________________________________________________\n",
      "pool4 (MaxPooling3D)         (None, 1, 1, 8, 512)      0         \n",
      "_________________________________________________________________\n",
      "conv5a (Conv3D)              (None, 1, 1, 8, 512)      7078400   \n",
      "_________________________________________________________________\n",
      "conv5b (Conv3D)              (None, 1, 1, 8, 512)      7078400   \n",
      "_________________________________________________________________\n",
      "pool5 (MaxPooling3D)         (None, 1, 1, 4, 512)      0         \n",
      "_________________________________________________________________\n",
      "flatten_1 (Flatten)          (None, 2048)              0         \n",
      "_________________________________________________________________\n",
      "fc6 (Dense)                  (None, 4096)              8392704   \n",
      "_________________________________________________________________\n",
      "dropout_1 (Dropout)          (None, 4096)              0         \n",
      "_________________________________________________________________\n",
      "fc7 (Dense)                  (None, 4096)              16781312  \n",
      "_________________________________________________________________\n",
      "dropout_2 (Dropout)          (None, 4096)              0         \n",
      "_________________________________________________________________\n",
      "fc8 (Dense)                  (None, 249)               1020153   \n",
      "=================================================================\n",
      "Total params: 54,121,401\n",
      "Trainable params: 54,121,401\n",
      "Non-trainable params: 0\n",
      "_________________________________________________________________\n",
      "None\n"
     ]
    }
   ],
   "source": [
    "def get_model(summary=False):\n",
    "    \"\"\" Return the Keras model of the network\n",
    "    \"\"\"\n",
    "    model = Sequential()\n",
    "    # 1st layer group\n",
    "    model.add(Conv3D(64, (3, 3, 3), activation='relu', \n",
    "                            padding='same', name='conv1',\n",
    "                            strides=(1, 1, 1), \n",
    "                            input_shape=(6, 16, 120, 160)))\n",
    "    model.add(MaxPooling3D(pool_size=(1, 2, 2), strides=(1, 2, 2), \n",
    "                           padding='same', name='pool1'))\n",
    "    # 2nd layer group\n",
    "    model.add(Conv3D(128, (3, 3, 3), activation='relu', \n",
    "                            padding='same', name='conv2',\n",
    "                            strides=(1, 1, 1)))\n",
    "    model.add(MaxPooling3D(pool_size=(2, 2, 2), strides=(2, 2, 2), \n",
    "                           padding='same', name='pool2'))\n",
    "    # 3rd layer group\n",
    "    model.add(Conv3D(256, (3, 3, 3), activation='relu', \n",
    "                            padding='same', name='conv3a',\n",
    "                            strides=(1, 1, 1)))\n",
    "    model.add(Conv3D(256, (3, 3, 3), activation='relu', \n",
    "                            padding='same', name='conv3b',\n",
    "                            strides=(1, 1, 1)))\n",
    "    model.add(MaxPooling3D(pool_size=(2, 2, 2), strides=(2, 2, 2), \n",
    "                           padding='same', name='pool3'))\n",
    "    # 4th layer group\n",
    "    model.add(Conv3D(512, (3, 3, 3), activation='relu', \n",
    "                            padding='same', name='conv4a',\n",
    "                            strides=(1, 1, 1)))\n",
    "    model.add(Conv3D(512, (3, 3, 3), activation='relu', \n",
    "                            padding='same', name='conv4b',\n",
    "                            strides=(1, 1, 1)))\n",
    "    model.add(MaxPooling3D(pool_size=(2, 2, 2), strides=(2, 2, 2), \n",
    "                           padding='same', name='pool4'))\n",
    "    # 5th layer group\n",
    "    model.add(Conv3D(512, (3, 3, 3), activation='relu', \n",
    "                            padding='same', name='conv5a',\n",
    "                            strides=(1, 1, 1)))\n",
    "    model.add(Conv3D(512, (3, 3, 3), activation='relu', \n",
    "                            padding='same', name='conv5b',\n",
    "                            strides=(1, 1, 1)))\n",
    "    #model.add(ZeroPadding3D(padding=(0, 1, 1)))\n",
    "    model.add(MaxPooling3D(pool_size=(2, 2, 2), strides=(2, 2, 2), \n",
    "                           padding='same', name='pool5'))\n",
    "    model.add(Flatten())\n",
    "    # FC layers group\n",
    "    model.add(Dense(4096, activation='relu', name='fc6'))\n",
    "    model.add(Dropout(.5))\n",
    "    model.add(Dense(4096, activation='relu', name='fc7'))\n",
    "    model.add(Dropout(.5))\n",
    "    model.add(Dense(249, activation='softmax', name='fc8'))\n",
    "    \n",
    "    if summary:\n",
    "        print(model.summary())\n",
    "    return model\n",
    "\n",
    "model = get_model(summary=True)"
   ]
  },
  {
   "cell_type": "code",
   "execution_count": 21,
   "metadata": {},
   "outputs": [],
   "source": [
    "import keras\n",
    "model.compile(loss=keras.losses.categorical_crossentropy, \n",
    "              optimizer=Adam(),\n",
    "              metrics=['acc'])"
   ]
  },
  {
   "cell_type": "code",
   "execution_count": 22,
   "metadata": {},
   "outputs": [
    {
     "name": "stdout",
     "output_type": "stream",
     "text": [
      "WARNING:tensorflow:From /usr/local/lib/python3.6/dist-packages/tensorflow/python/ops/math_ops.py:3066: to_int32 (from tensorflow.python.ops.math_ops) is deprecated and will be removed in a future version.\n",
      "Instructions for updating:\n",
      "Use tf.cast instead.\n",
      "Epoch 1/20\n",
      "1121/1121 [==============================] - 1798s 2s/step - loss: 5.4263 - acc: 0.0236 - val_loss: 5.4929 - val_acc: 0.0217\n",
      "Epoch 2/20\n",
      "1121/1121 [==============================] - 1723s 2s/step - loss: 5.4139 - acc: 0.0237 - val_loss: 5.4949 - val_acc: 0.0217\n",
      "Epoch 3/20\n",
      "1121/1121 [==============================] - 1742s 2s/step - loss: 5.4128 - acc: 0.0237 - val_loss: 5.4935 - val_acc: 0.0217\n",
      "Epoch 4/20\n",
      "1121/1121 [==============================] - 1651s 1s/step - loss: 5.4120 - acc: 0.0237 - val_loss: 5.4941 - val_acc: 0.0215\n",
      "Epoch 5/20\n",
      "1121/1121 [==============================] - 1647s 1s/step - loss: 5.4111 - acc: 0.0237 - val_loss: 5.4936 - val_acc: 0.0217\n",
      "Epoch 6/20\n",
      "1121/1121 [==============================] - 1642s 1s/step - loss: 5.4107 - acc: 0.0237 - val_loss: 5.4944 - val_acc: 0.0214\n",
      "Epoch 7/20\n",
      "1121/1121 [==============================] - 1649s 1s/step - loss: 5.4100 - acc: 0.0237 - val_loss: 5.4939 - val_acc: 0.0217\n",
      "Epoch 8/20\n",
      "1121/1121 [==============================] - 1650s 1s/step - loss: 5.4096 - acc: 0.0237 - val_loss: 5.4939 - val_acc: 0.0217\n",
      "Epoch 9/20\n",
      "1121/1121 [==============================] - 1643s 1s/step - loss: 5.4095 - acc: 0.0237 - val_loss: 5.4948 - val_acc: 0.0217\n",
      "Epoch 10/20\n",
      "1121/1121 [==============================] - 1649s 1s/step - loss: 5.4091 - acc: 0.0237 - val_loss: 5.4940 - val_acc: 0.0214\n",
      "Epoch 11/20\n",
      "1121/1121 [==============================] - 1638s 1s/step - loss: 5.4093 - acc: 0.0237 - val_loss: 5.4947 - val_acc: 0.0215\n",
      "Epoch 12/20\n",
      "1121/1121 [==============================] - 1643s 1s/step - loss: 5.4091 - acc: 0.0237 - val_loss: 5.4939 - val_acc: 0.0217\n",
      "Epoch 13/20\n",
      "1121/1121 [==============================] - 1641s 1s/step - loss: 5.4094 - acc: 0.0237 - val_loss: 5.4945 - val_acc: 0.0217\n",
      "Epoch 14/20\n",
      "1121/1121 [==============================] - 1638s 1s/step - loss: 5.4086 - acc: 0.0237 - val_loss: 5.4943 - val_acc: 0.0217\n",
      "Epoch 15/20\n",
      "1121/1121 [==============================] - 1645s 1s/step - loss: 5.4085 - acc: 0.0237 - val_loss: 5.4948 - val_acc: 0.0217\n",
      "Epoch 16/20\n",
      "1121/1121 [==============================] - 1646s 1s/step - loss: 5.4082 - acc: 0.0237 - val_loss: 5.4948 - val_acc: 0.0217\n",
      "Epoch 17/20\n",
      "1121/1121 [==============================] - 1651s 1s/step - loss: 5.4082 - acc: 0.0237 - val_loss: 5.4944 - val_acc: 0.0217\n",
      "Epoch 18/20\n",
      "1121/1121 [==============================] - 1642s 1s/step - loss: 5.4078 - acc: 0.0237 - val_loss: 5.4959 - val_acc: 0.0217\n",
      "Epoch 19/20\n",
      "1121/1121 [==============================] - 1641s 1s/step - loss: 5.4081 - acc: 0.0237 - val_loss: 5.4957 - val_acc: 0.0215\n",
      "Epoch 20/20\n",
      "1121/1121 [==============================] - 1645s 1s/step - loss: 5.4081 - acc: 0.0237 - val_loss: 5.4966 - val_acc: 0.0212\n"
     ]
    },
    {
     "data": {
      "text/plain": [
       "'\\n\\nresult_train = model.fit_generator(\\n    generator=training_generator,\\n    epochs=20,\\n    steps_per_epoch=cantDataDoble_T // bach_size)\\n'"
      ]
     },
     "execution_count": 22,
     "metadata": {},
     "output_type": "execute_result"
    }
   ],
   "source": [
    "from keras.callbacks import TensorBoard\n",
    "\n",
    "#cantDataDoble_T = cantData_T*2\n",
    "#cantDataDoble_V = cantData_V*2\n",
    "\n",
    "cantDataDoble_T = cantData_T\n",
    "cantDataDoble_V = cantData_V\n",
    "\n",
    "\n",
    "result_train = model.fit_generator(\n",
    "    generator=training_generator,\n",
    "    epochs=20,\n",
    "    steps_per_epoch=cantDataDoble_T // bach_size,\n",
    "    validation_data=validation_generator,\n",
    "    validation_steps=cantDataDoble_V // bach_size)\n",
    "'''\n",
    "\n",
    "result_train = model.fit_generator(\n",
    "    generator=training_generator,\n",
    "    epochs=20,\n",
    "    steps_per_epoch=cantDataDoble_T // bach_size)\n",
    "'''"
   ]
  },
  {
   "cell_type": "code",
   "execution_count": 24,
   "metadata": {},
   "outputs": [
    {
     "data": {
      "image/png": "[encoded data removed]",
      "text/plain": [
       "<matplotlib.figure.Figure at 0x7fbd1ef0dcc0>"
      ]
     },
     "metadata": {
      "needs_background": "light"
     },
     "output_type": "display_data"
    },
    {
     "data": {
      "image/png": "[encoded data removed]",
      "text/plain": [
       "<matplotlib.figure.Figure at 0x7fbd1ee87390>"
      ]
     },
     "metadata": {
      "needs_background": "light"
     },
     "output_type": "display_data"
    }
   ],
   "source": [
    "import matplotlib.pyplot as plt\n",
    "accuracy = result_train.history['acc']\n",
    "val_accuracy = result_train.history['val_acc']\n",
    "loss = result_train.history['loss']\n",
    "val_loss = result_train.history['val_loss']\n",
    "epochs = range(len(accuracy))\n",
    "plt.plot(epochs, accuracy, 'bo', label='Training accuracy')\n",
    "plt.plot(epochs, val_accuracy, 'b', label='Validation accuracy')\n",
    "plt.title('Training and validat1137153748ion accuracy')\n",
    "plt.legend()\n",
    "plt.figure()\n",
    "plt.plot(epochs, loss, 'bo', label='Training loss')\n",
    "plt.plot(epochs, val_loss, 'b', label='Validation loss')\n",
    "plt.title('Training and validation loss')\n",
    "plt.legend()\n",
    "plt.show()\n",
    "plt.show()"
   ]
  },
  {
   "cell_type": "code",
   "execution_count": 23,
   "metadata": {},
   "outputs": [],
   "source": [
    "import h5py\n",
    "\n",
    "model.save_weights('RNN_isolate_weights_D.h5', overwrite=True)\n",
    "json_string = model.to_json()\n",
    "with open('RNN_isolate_model_D.json', 'w') as f:\n",
    "    f.write(json_string)"
   ]
  },
  {
   "cell_type": "code",
   "execution_count": null,
   "metadata": {},
   "outputs": [],
   "source": []
  }
 ],
 "metadata": {
  "kernelspec": {
   "display_name": "Python 3",
   "language": "python",
   "name": "python3"
  },
  "language_info": {
   "codemirror_mode": {
    "name": "ipython",
    "version": 3
   },
   "file_extension": ".py",
   "mimetype": "text/x-python",
   "name": "python",
   "nbconvert_exporter": "python",
   "pygments_lexer": "ipython3",
   "version": "3.6.7"
  }
 },
 "nbformat": 4,
 "nbformat_minor": 2
}
